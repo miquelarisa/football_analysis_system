{
 "cells": [
  {
   "metadata": {
    "ExecuteTime": {
     "end_time": "2024-11-23T12:57:03.790566Z",
     "start_time": "2024-11-23T12:57:03.759353Z"
    }
   },
   "cell_type": "code",
   "source": [
    "import os\n",
    "\n",
    "# Obtener el directorio actual\n",
    "directorio_actual = os.getcwd()\n",
    "print(f\"El directorio actual es: {directorio_actual}\")"
   ],
   "id": "93bf85042080ee74",
   "outputs": [
    {
     "name": "stdout",
     "output_type": "stream",
     "text": [
      "El directorio actual es: C:\\Users\\mique\\Desktop\\Master Ciencia de Dades UOC\\Treball de Final de Master\\football_analysis_system\\development_and_analysis\\pixel_detection\n"
     ]
    }
   ],
   "execution_count": 5
  },
  {
   "metadata": {},
   "cell_type": "markdown",
   "source": "# Detect FPS",
   "id": "28966fdf37e8bfb1"
  },
  {
   "cell_type": "code",
   "id": "initial_id",
   "metadata": {
    "collapsed": true,
    "ExecuteTime": {
     "end_time": "2024-11-23T12:57:12.707140Z",
     "start_time": "2024-11-23T12:57:12.660247Z"
    }
   },
   "source": [
    "import cv2\n",
    "\n",
    "# Carga el video original\n",
    "video_input = cv2.VideoCapture('../../data/input_videos/1_Wolfsburg.mp4')\n",
    "\n",
    "# Obtiene los FPS del video original\n",
    "fps = video_input.get(cv2.CAP_PROP_FPS)\n",
    "print(fps//5)\n",
    "print(fps)"
   ],
   "outputs": [
    {
     "name": "stdout",
     "output_type": "stream",
     "text": [
      "5.0\n",
      "25.0\n"
     ]
    }
   ],
   "execution_count": 6
  },
  {
   "metadata": {},
   "cell_type": "markdown",
   "source": "# Save first frame",
   "id": "3a69095e0bbf28a4"
  },
  {
   "metadata": {
    "ExecuteTime": {
     "end_time": "2024-11-23T15:07:20.930588Z",
     "start_time": "2024-11-23T15:07:20.820361Z"
    }
   },
   "cell_type": "code",
   "source": [
    "video_name = '5_Spain_England'\n",
    "\n",
    "video_input = cv2.VideoCapture('../../data/input_videos/' + video_name + '.mp4')\n",
    "\n",
    "ret, frame = video_input.read()\n",
    "if ret:\n",
    "    # Guardar el frame como una imagen\n",
    "    cv2.imwrite(video_name + '_primer_frame.jpg', frame)\n",
    "    print(\"El primer frame se ha guardado como 'primer_frame.jpg'.\")\n",
    "else:\n",
    "    print(\"No se pudo leer el primer frame.\")\n",
    "    \n",
    "# Liberar el objeto VideoCapture\n",
    "video_input.release()"
   ],
   "id": "8cf3322152bcbec6",
   "outputs": [
    {
     "name": "stdout",
     "output_type": "stream",
     "text": [
      "El primer frame se ha guardado como 'primer_frame.jpg'.\n"
     ]
    }
   ],
   "execution_count": 26
  },
  {
   "metadata": {},
   "cell_type": "markdown",
   "source": "# Draw calibrate pixels to the image",
   "id": "f03f36ec77bf1a57"
  },
  {
   "metadata": {
    "ExecuteTime": {
     "end_time": "2024-11-23T15:07:22.222289Z",
     "start_time": "2024-11-23T15:07:22.144123Z"
    }
   },
   "cell_type": "code",
   "source": [
    "import cv2\n",
    "import numpy as np\n",
    "\n",
    "# Ruta de la imagen a leer\n",
    "image_path = video_name + '_primer_frame.jpg'\n",
    "\n",
    "# Leer la imagen\n",
    "image = cv2.imread(image_path)\n",
    "\n",
    "# Verificar que la imagen se haya cargado correctamente\n",
    "if image is None:\n",
    "    print(\"Error al cargar la imagen.\")\n",
    "else:\n",
    "    # Coordenadas de los puntos\n",
    "    pixel_vertices = np.array([[298, 943], [851, 335], [1555, 345], [1804, 1001]])\n",
    "\n",
    "    # Dibujar los puntos y el texto\n",
    "    for point in pixel_vertices:\n",
    "        # Dibujar cada punto\n",
    "        cv2.circle(image, (point[0], point[1]), radius=5, color=(0, 0, 255), thickness=-1)  # Punto rojo\n",
    "        \n",
    "        # Añadir las coordenadas como texto\n",
    "        text = f\"({point[0]}, {point[1]})\"\n",
    "        cv2.putText(image, text, (point[0] + 10, point[1] - 10), cv2.FONT_HERSHEY_SIMPLEX, \n",
    "                    fontScale=0.5, color=(255, 255, 255), thickness=1)\n",
    "\n",
    "    # Dibujar el cuadrado que conecte los puntos\n",
    "    cv2.polylines(image, [pixel_vertices], isClosed=True, color=(255, 0, 0), thickness=2)  # Cuadrado azul\n",
    "\n",
    "    # Crear una copia de la imagen para dibujar las diagonales\n",
    "    overlay = image.copy()\n",
    "\n",
    "    # Dibujar las diagonales\n",
    "    diagonal_color = (0, 255, 0)  # Verde\n",
    "    cv2.line(overlay, tuple(pixel_vertices[0]), tuple(pixel_vertices[2]), diagonal_color, thickness=2)  # Diagonal 1\n",
    "    cv2.line(overlay, tuple(pixel_vertices[1]), tuple(pixel_vertices[3]), diagonal_color, thickness=2)  # Diagonal 2\n",
    "\n",
    "    # Mezclar la imagen original con el overlay (50% transparencia)\n",
    "    alpha = 0.5\n",
    "    image = cv2.addWeighted(overlay, alpha, image, 1 - alpha, 0)\n",
    "\n",
    "    # Guardar la imagen con los puntos, el cuadrado y las diagonales pintadas\n",
    "    output_path = video_name + '_puntos.jpg'\n",
    "    cv2.imwrite(output_path, image)\n",
    "    print(f\"La imagen con los puntos, el cuadrado y las diagonales se ha guardado como '{output_path}'.\")\n"
   ],
   "id": "88fce6ebcde7b764",
   "outputs": [
    {
     "name": "stdout",
     "output_type": "stream",
     "text": [
      "La imagen con los puntos, el cuadrado y las diagonales se ha guardado como '5_Spain_England_puntos.jpg'.\n"
     ]
    }
   ],
   "execution_count": 27
  },
  {
   "metadata": {
    "ExecuteTime": {
     "end_time": "2024-11-19T18:13:01.137454Z",
     "start_time": "2024-11-19T18:12:39.919166Z"
    }
   },
   "cell_type": "code",
   "source": [
    "import cv2\n",
    "\n",
    "# Carga la imagen\n",
    "imagen = cv2.imread(image_path)\n",
    "\n",
    "# Redimensiona la imagen para ajustar el tamaño de la ventana\n",
    "ancho = 1200  # Define el ancho deseado\n",
    "alto = 800   # Define el alto deseado\n",
    "imagen_redimensionada = cv2.resize(imagen, (ancho, alto))\n",
    "\n",
    "# Función para obtener coordenadas del píxel\n",
    "def obtener_coordenadas(evento, x, y, flags, parametros):\n",
    "    if evento == cv2.EVENT_LBUTTONDOWN:  # Detecta clic izquierdo\n",
    "        print(f\"Coordenadas del píxel en la ventana redimensionada: (x: {x}, y: {y})\")\n",
    "\n",
    "        # Ajustar las coordenadas al tamaño original si es necesario\n",
    "        x_original = int(x * (imagen.shape[1] / ancho))\n",
    "        y_original = int(y * (imagen.shape[0] / alto))\n",
    "        print(f\"Coordenadas en la imagen original: (x: {x_original}, y: {y_original})\")\n",
    "        print(f\"Valor del píxel (BGR): {imagen[y_original, x_original]}\")  # Valor en la imagen original\n",
    "\n",
    "# Mostrar la imagen redimensionada\n",
    "cv2.imshow('Imagen Redimensionada', imagen_redimensionada)\n",
    "cv2.setMouseCallback('Imagen Redimensionada', obtener_coordenadas)\n",
    "cv2.waitKey(0)\n",
    "cv2.destroyAllWindows()\n"
   ],
   "id": "8613bdf4e213268a",
   "outputs": [
    {
     "name": "stdout",
     "output_type": "stream",
     "text": [
      "Coordenadas del píxel en la ventana redimensionada: (x: 959, y: 157)\n",
      "Coordenadas en la imagen original: (x: 1534, y: 211)\n",
      "Valor del píxel (BGR): [ 87 139 115]\n"
     ]
    }
   ],
   "execution_count": 33
  }
 ],
 "metadata": {
  "kernelspec": {
   "display_name": "Python 3",
   "language": "python",
   "name": "python3"
  },
  "language_info": {
   "codemirror_mode": {
    "name": "ipython",
    "version": 2
   },
   "file_extension": ".py",
   "mimetype": "text/x-python",
   "name": "python",
   "nbconvert_exporter": "python",
   "pygments_lexer": "ipython2",
   "version": "2.7.6"
  }
 },
 "nbformat": 4,
 "nbformat_minor": 5
}
