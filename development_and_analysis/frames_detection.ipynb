{
 "cells": [
  {
   "cell_type": "code",
   "id": "initial_id",
   "metadata": {
    "collapsed": true,
    "ExecuteTime": {
     "end_time": "2024-09-04T17:54:53.349889Z",
     "start_time": "2024-09-04T17:54:53.110978Z"
    }
   },
   "source": [
    "import cv2\n",
    "\n",
    "# Carga el video original\n",
    "video_input = cv2.VideoCapture('../data/input_videos/08fd33_4.mp4')\n",
    "\n",
    "# Obtiene los FPS del video original\n",
    "fps = video_input.get(cv2.CAP_PROP_FPS)\n",
    "print(fps)"
   ],
   "outputs": [
    {
     "name": "stdout",
     "output_type": "stream",
     "text": [
      "25.0\n"
     ]
    }
   ],
   "execution_count": 3
  },
  {
   "metadata": {},
   "cell_type": "code",
   "outputs": [],
   "execution_count": null,
   "source": "",
   "id": "8cf3322152bcbec6"
  }
 ],
 "metadata": {
  "kernelspec": {
   "display_name": "Python 3",
   "language": "python",
   "name": "python3"
  },
  "language_info": {
   "codemirror_mode": {
    "name": "ipython",
    "version": 2
   },
   "file_extension": ".py",
   "mimetype": "text/x-python",
   "name": "python",
   "nbconvert_exporter": "python",
   "pygments_lexer": "ipython2",
   "version": "2.7.6"
  }
 },
 "nbformat": 4,
 "nbformat_minor": 5
}
