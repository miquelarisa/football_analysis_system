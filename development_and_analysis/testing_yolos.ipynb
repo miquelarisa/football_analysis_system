{
 "cells": [
  {
   "metadata": {},
   "cell_type": "markdown",
   "source": "# Multiple Images Validation",
   "id": "ed4f88cc7ded6ff7"
  },
  {
   "cell_type": "code",
   "id": "initial_id",
   "metadata": {
    "collapsed": true,
    "ExecuteTime": {
     "end_time": "2024-11-20T16:41:15.783388Z",
     "start_time": "2024-11-20T16:41:12.272908Z"
    }
   },
   "source": [
    "from ultralytics import YOLO\n",
    "from PIL import Image\n",
    "from typing import List, Tuple\n",
    "import os"
   ],
   "outputs": [],
   "execution_count": 1
  },
  {
   "metadata": {
    "ExecuteTime": {
     "end_time": "2024-11-20T16:41:16.017005Z",
     "start_time": "2024-11-20T16:41:15.784833Z"
    }
   },
   "cell_type": "code",
   "source": [
    "# Cargar el modelo\n",
    "model = YOLO('../data/models/500epochs/v11/last.pt')\n",
    "\n",
    "# Directorios de imágenes y etiquetas\n",
    "image_dir = '../data/testing_data/images'\n",
    "\n",
    "label_dir = '../data/testing_data/labels'\n"
   ],
   "id": "271812a5a88c14db",
   "outputs": [],
   "execution_count": 2
  },
  {
   "metadata": {
    "ExecuteTime": {
     "end_time": "2024-11-20T16:41:16.033006Z",
     "start_time": "2024-11-20T16:41:16.018007Z"
    }
   },
   "cell_type": "code",
   "source": [
    "# Función para calcular IoU\n",
    "def iou(boxA: Tuple[float, float, float, float], boxB: Tuple[float, float, float, float]) -> float:\n",
    "    xA = max(boxA[0], boxB[0])\n",
    "    yA = max(boxA[1], boxB[1])\n",
    "    xB = min(boxA[0] + boxA[2], boxB[0] + boxB[2])\n",
    "    yB = min(boxA[1] + boxA[3], boxB[1] + boxB[3])\n",
    "    interArea = max(0, xB - xA) * max(0, yB - yA)\n",
    "    boxAArea = boxA[2] * boxA[3]\n",
    "    boxBArea = boxB[2] * boxB[3]\n",
    "    unionArea = boxAArea + boxBArea - interArea\n",
    "    return interArea / unionArea if unionArea != 0 else 0"
   ],
   "id": "dcd4f7335874e4dd",
   "outputs": [],
   "execution_count": 3
  },
  {
   "metadata": {
    "ExecuteTime": {
     "end_time": "2024-11-20T16:41:16.048575Z",
     "start_time": "2024-11-20T16:41:16.033970Z"
    }
   },
   "cell_type": "code",
   "source": [
    "# Función para evaluar las métricas por categoría\n",
    "def evaluate(true_boxes: List[Tuple[float, float, float, float]], pred_boxes: List[Tuple[float, float, float, float]], iou_threshold: float = 0.5) -> Tuple[int, int, int]:\n",
    "    tp, fp, fn = 0, 0, 0\n",
    "    matched_pred_indices = set()\n",
    "    for true_box in true_boxes:\n",
    "        match_found = False\n",
    "        for i, pred_box in enumerate(pred_boxes):\n",
    "            if i in matched_pred_indices:\n",
    "                continue\n",
    "            if iou(true_box, pred_box) >= iou_threshold:\n",
    "                tp += 1\n",
    "                matched_pred_indices.add(i)\n",
    "                match_found = True\n",
    "                break\n",
    "        if not match_found:\n",
    "            fn += 1\n",
    "    fp = len(pred_boxes) - len(matched_pred_indices)\n",
    "    return tp, fp, fn"
   ],
   "id": "8cdcac0a79f0a895",
   "outputs": [],
   "execution_count": 4
  },
  {
   "metadata": {
    "ExecuteTime": {
     "end_time": "2024-11-20T16:42:04.959043Z",
     "start_time": "2024-11-20T16:41:16.050572Z"
    }
   },
   "cell_type": "code",
   "source": [
    "# Inicialización de contadores globales para cada categoría\n",
    "global_tp = {\"ball\": 0, \"goalkeeper\": 0, \"player\": 0, \"referee\": 0}\n",
    "global_fp = {\"ball\": 0, \"goalkeeper\": 0, \"player\": 0, \"referee\": 0}\n",
    "global_fn = {\"ball\": 0, \"goalkeeper\": 0, \"player\": 0, \"referee\": 0}\n",
    "\n",
    "# Procesar cada imagen y sus etiquetas\n",
    "for image_file in os.listdir(image_dir):\n",
    "    if not image_file.endswith(\".jpg\"):\n",
    "        continue\n",
    "    image_path = os.path.join(image_dir, image_file)\n",
    "    label_path = os.path.join(label_dir, image_file.replace(\".jpg\", \".txt\"))\n",
    "\n",
    "    image = Image.open(image_path)\n",
    "    img_width, img_height = image.size\n",
    "\n",
    "    # Leer las cajas de verdad (true boxes)\n",
    "    true_boxes_ball, true_boxes_goalkeeper, true_boxes_player, true_boxes_referee = [], [], [], []\n",
    "    with open(label_path, 'r') as file:\n",
    "        for line in file:\n",
    "            label, x_center, y_center, width, height = map(float, line.split())\n",
    "            bbox = (x_center * img_width, y_center * img_height, width * img_width, height * img_height)\n",
    "            if label == 0:\n",
    "                true_boxes_ball.append(bbox)\n",
    "            elif label == 1:\n",
    "                true_boxes_goalkeeper.append(bbox)\n",
    "            elif label == 2:\n",
    "                true_boxes_player.append(bbox)\n",
    "            elif label == 3:\n",
    "                true_boxes_referee.append(bbox)\n",
    "\n",
    "    # Realizar detección con el modelo\n",
    "    results = model(image_path)\n",
    "    predicted_boxes_ball, predicted_boxes_goalkeeper, predicted_boxes_player, predicted_boxes_referee = [], [], [], []\n",
    "    for box in results[0].boxes:\n",
    "        label = box.cls.item()\n",
    "        bbox = (box.xywh[0][0].item(), box.xywh[0][1].item(), box.xywh[0][2].item(), box.xywh[0][3].item())\n",
    "        if label == 0:\n",
    "            predicted_boxes_ball.append(bbox)\n",
    "        elif label == 1:\n",
    "            predicted_boxes_goalkeeper.append(bbox)\n",
    "        elif label == 2:\n",
    "            predicted_boxes_player.append(bbox)\n",
    "        elif label == 3:\n",
    "            predicted_boxes_referee.append(bbox)\n",
    "\n",
    "    # Calcular métricas para cada categoría\n",
    "    for category, true_boxes, pred_boxes in zip(\n",
    "        [\"ball\", \"goalkeeper\", \"player\", \"referee\"],\n",
    "        [true_boxes_ball, true_boxes_goalkeeper, true_boxes_player, true_boxes_referee],\n",
    "        [predicted_boxes_ball, predicted_boxes_goalkeeper, predicted_boxes_player, predicted_boxes_referee]\n",
    "    ):\n",
    "        tp, fp, fn = evaluate(true_boxes, pred_boxes)\n",
    "        global_tp[category] += tp\n",
    "        global_fp[category] += fp\n",
    "        global_fn[category] += fn\n",
    "\n",
    "# Cálculo de precisión y recall global por categoría\n",
    "for category in global_tp.keys():\n",
    "    precision = global_tp[category] / (global_tp[category] + global_fp[category]) if (global_tp[category] + global_fp[category]) > 0 else 0\n",
    "    recall = global_tp[category] / (global_tp[category] + global_fn[category]) if (global_tp[category] + global_fn[category]) > 0 else 0\n",
    "    print(f\"{category.capitalize()} Precision: {precision:.2f}\")\n",
    "    print(f\"{category.capitalize()} Recall: {recall:.2f}\")"
   ],
   "id": "1fd267ae578de2bf",
   "outputs": [
    {
     "name": "stdout",
     "output_type": "stream",
     "text": [
      "\n",
      "image 1/1 C:\\Users\\mique\\Desktop\\Master Ciencia de Dades UOC\\Treball de Final de Master\\football_analysis_system\\development_and_analysis\\..\\data\\testing_data\\images\\08fd33_3_1_png.rf.894a7edd6b726ed886b3777ea55d6beb.jpg: 640x640 19 players, 2 referees, 868.8ms\n",
      "Speed: 3.0ms preprocess, 868.8ms inference, 1.0ms postprocess per image at shape (1, 3, 640, 640)\n",
      "\n",
      "image 1/1 C:\\Users\\mique\\Desktop\\Master Ciencia de Dades UOC\\Treball de Final de Master\\football_analysis_system\\development_and_analysis\\..\\data\\testing_data\\images\\08fd33_3_3_png.rf.7aaf5d38e77c064882cb7b0f80e7e156.jpg: 640x640 1 ball, 20 players, 2 referees, 878.8ms\n",
      "Speed: 4.5ms preprocess, 878.8ms inference, 0.0ms postprocess per image at shape (1, 3, 640, 640)\n",
      "\n",
      "image 1/1 C:\\Users\\mique\\Desktop\\Master Ciencia de Dades UOC\\Treball de Final de Master\\football_analysis_system\\development_and_analysis\\..\\data\\testing_data\\images\\08fd33_9_8_png.rf.c4792b7740c5e581674385c8a2c149fe.jpg: 640x640 20 players, 2 referees, 847.6ms\n",
      "Speed: 5.0ms preprocess, 847.6ms inference, 1.0ms postprocess per image at shape (1, 3, 640, 640)\n",
      "\n",
      "image 1/1 C:\\Users\\mique\\Desktop\\Master Ciencia de Dades UOC\\Treball de Final de Master\\football_analysis_system\\development_and_analysis\\..\\data\\testing_data\\images\\121364_7_9_png.rf.0b474ed35ea4cab1acb2fc14ef64c7cc.jpg: 640x640 19 players, 2 referees, 853.7ms\n",
      "Speed: 4.0ms preprocess, 853.7ms inference, 1.0ms postprocess per image at shape (1, 3, 640, 640)\n",
      "\n",
      "image 1/1 C:\\Users\\mique\\Desktop\\Master Ciencia de Dades UOC\\Treball de Final de Master\\football_analysis_system\\development_and_analysis\\..\\data\\testing_data\\images\\121364_9_2_png.rf.4028ff624f963fe501d9bf2b563582ca.jpg: 640x640 1 goalkeeper, 20 players, 3 referees, 876.9ms\n",
      "Speed: 4.0ms preprocess, 876.9ms inference, 1.0ms postprocess per image at shape (1, 3, 640, 640)\n",
      "\n",
      "image 1/1 C:\\Users\\mique\\Desktop\\Master Ciencia de Dades UOC\\Treball de Final de Master\\football_analysis_system\\development_and_analysis\\..\\data\\testing_data\\images\\121364_9_3_png.rf.942d5bdea8c598c9ed8967bc8b9860ae.jpg: 640x640 1 ball, 19 players, 3 referees, 871.1ms\n",
      "Speed: 5.0ms preprocess, 871.1ms inference, 1.0ms postprocess per image at shape (1, 3, 640, 640)\n",
      "\n",
      "image 1/1 C:\\Users\\mique\\Desktop\\Master Ciencia de Dades UOC\\Treball de Final de Master\\football_analysis_system\\development_and_analysis\\..\\data\\testing_data\\images\\121364_9_8_png.rf.5547eb76fc998978db11422d771b560e.jpg: 640x640 2 goalkeepers, 18 players, 1 referee, 901.8ms\n",
      "Speed: 5.5ms preprocess, 901.8ms inference, 1.0ms postprocess per image at shape (1, 3, 640, 640)\n",
      "\n",
      "image 1/1 C:\\Users\\mique\\Desktop\\Master Ciencia de Dades UOC\\Treball de Final de Master\\football_analysis_system\\development_and_analysis\\..\\data\\testing_data\\images\\2e57b9_1_6_png.rf.d75ca2d49fa77ff7b77446b62f9dbe6d.jpg: 640x640 1 goalkeeper, 20 players, 3 referees, 889.5ms\n",
      "Speed: 6.5ms preprocess, 889.5ms inference, 2.0ms postprocess per image at shape (1, 3, 640, 640)\n",
      "\n",
      "image 1/1 C:\\Users\\mique\\Desktop\\Master Ciencia de Dades UOC\\Treball de Final de Master\\football_analysis_system\\development_and_analysis\\..\\data\\testing_data\\images\\2e57b9_1_7_png.rf.f7e8d2faa1a266fc9140c9f9cb826bef.jpg: 640x640 1 goalkeeper, 19 players, 3 referees, 896.6ms\n",
      "Speed: 6.0ms preprocess, 896.6ms inference, 2.0ms postprocess per image at shape (1, 3, 640, 640)\n",
      "\n",
      "image 1/1 C:\\Users\\mique\\Desktop\\Master Ciencia de Dades UOC\\Treball de Final de Master\\football_analysis_system\\development_and_analysis\\..\\data\\testing_data\\images\\2e57b9_3_10_png.rf.6501f2d4a456a235edc4f543acc96cdf.jpg: 640x640 1 goalkeeper, 18 players, 3 referees, 952.6ms\n",
      "Speed: 4.0ms preprocess, 952.6ms inference, 1.0ms postprocess per image at shape (1, 3, 640, 640)\n",
      "\n",
      "image 1/1 C:\\Users\\mique\\Desktop\\Master Ciencia de Dades UOC\\Treball de Final de Master\\football_analysis_system\\development_and_analysis\\..\\data\\testing_data\\images\\2e57b9_3_2_png.rf.9c5df01a69b7d4e4c3b4670817a3ead3.jpg: 640x640 1 goalkeeper, 20 players, 2 referees, 929.7ms\n",
      "Speed: 18.0ms preprocess, 929.7ms inference, 1.0ms postprocess per image at shape (1, 3, 640, 640)\n",
      "\n",
      "image 1/1 C:\\Users\\mique\\Desktop\\Master Ciencia de Dades UOC\\Treball de Final de Master\\football_analysis_system\\development_and_analysis\\..\\data\\testing_data\\images\\2e57b9_3_8_png.rf.27a64da783d4729880af00ab0704cb26.jpg: 640x640 1 ball, 1 goalkeeper, 20 players, 3 referees, 953.5ms\n",
      "Speed: 5.0ms preprocess, 953.5ms inference, 1.0ms postprocess per image at shape (1, 3, 640, 640)\n",
      "\n",
      "image 1/1 C:\\Users\\mique\\Desktop\\Master Ciencia de Dades UOC\\Treball de Final de Master\\football_analysis_system\\development_and_analysis\\..\\data\\testing_data\\images\\2e57b9_5_10_png.rf.5c941ebe50f372d970fba01166785540.jpg: 640x640 1 goalkeeper, 16 players, 3 referees, 870.1ms\n",
      "Speed: 6.0ms preprocess, 870.1ms inference, 1.0ms postprocess per image at shape (1, 3, 640, 640)\n",
      "\n",
      "image 1/1 C:\\Users\\mique\\Desktop\\Master Ciencia de Dades UOC\\Treball de Final de Master\\football_analysis_system\\development_and_analysis\\..\\data\\testing_data\\images\\2e57b9_5_6_png.rf.2866e69d65afee947b57a2c99078be1e.jpg: 640x640 1 ball, 20 players, 2 referees, 876.4ms\n",
      "Speed: 4.0ms preprocess, 876.4ms inference, 1.0ms postprocess per image at shape (1, 3, 640, 640)\n",
      "\n",
      "image 1/1 C:\\Users\\mique\\Desktop\\Master Ciencia de Dades UOC\\Treball de Final de Master\\football_analysis_system\\development_and_analysis\\..\\data\\testing_data\\images\\2e57b9_9_1_png.rf.7fa5686fe9d6d22ecc80aa124df3c805.jpg: 640x640 1 ball, 1 goalkeeper, 18 players, 3 referees, 906.9ms\n",
      "Speed: 5.4ms preprocess, 906.9ms inference, 1.0ms postprocess per image at shape (1, 3, 640, 640)\n",
      "\n",
      "image 1/1 C:\\Users\\mique\\Desktop\\Master Ciencia de Dades UOC\\Treball de Final de Master\\football_analysis_system\\development_and_analysis\\..\\data\\testing_data\\images\\2e57b9_9_4_png.rf.9f8c5a4c2d82d8f9f724b0ccc941e4f1.jpg: 640x640 1 ball, 19 players, 2 referees, 883.4ms\n",
      "Speed: 6.0ms preprocess, 883.4ms inference, 1.0ms postprocess per image at shape (1, 3, 640, 640)\n",
      "\n",
      "image 1/1 C:\\Users\\mique\\Desktop\\Master Ciencia de Dades UOC\\Treball de Final de Master\\football_analysis_system\\development_and_analysis\\..\\data\\testing_data\\images\\40cd38_3_1_png.rf.ed88bf655ce15e48ce1eed165dbbd3aa.jpg: 640x640 20 players, 2 referees, 929.7ms\n",
      "Speed: 5.5ms preprocess, 929.7ms inference, 1.0ms postprocess per image at shape (1, 3, 640, 640)\n",
      "\n",
      "image 1/1 C:\\Users\\mique\\Desktop\\Master Ciencia de Dades UOC\\Treball de Final de Master\\football_analysis_system\\development_and_analysis\\..\\data\\testing_data\\images\\40cd38_7_7_png.rf.9c1efe80cfadc388fd2c98ebaf985a5e.jpg: 640x640 1 ball, 22 players, 2 referees, 957.0ms\n",
      "Speed: 5.5ms preprocess, 957.0ms inference, 1.5ms postprocess per image at shape (1, 3, 640, 640)\n",
      "\n",
      "image 1/1 C:\\Users\\mique\\Desktop\\Master Ciencia de Dades UOC\\Treball de Final de Master\\football_analysis_system\\development_and_analysis\\..\\data\\testing_data\\images\\42ba34_1_3_png.rf.e4971b5105d3d95f2081bdce7c338db2.jpg: 640x640 1 goalkeeper, 20 players, 4 referees, 1083.3ms\n",
      "Speed: 6.5ms preprocess, 1083.3ms inference, 2.0ms postprocess per image at shape (1, 3, 640, 640)\n",
      "\n",
      "image 1/1 C:\\Users\\mique\\Desktop\\Master Ciencia de Dades UOC\\Treball de Final de Master\\football_analysis_system\\development_and_analysis\\..\\data\\testing_data\\images\\42ba34_1_4_png.rf.6ddff8baf433adef083e8dcec5f3e98e.jpg: 640x640 1 goalkeeper, 20 players, 3 referees, 892.2ms\n",
      "Speed: 6.0ms preprocess, 892.2ms inference, 2.4ms postprocess per image at shape (1, 3, 640, 640)\n",
      "\n",
      "image 1/1 C:\\Users\\mique\\Desktop\\Master Ciencia de Dades UOC\\Treball de Final de Master\\football_analysis_system\\development_and_analysis\\..\\data\\testing_data\\images\\42ba34_3_2_png.rf.8a5778a76ab75d7be959a0e2f9926a4b.jpg: 640x640 1 ball, 1 goalkeeper, 18 players, 3 referees, 884.0ms\n",
      "Speed: 5.0ms preprocess, 884.0ms inference, 2.2ms postprocess per image at shape (1, 3, 640, 640)\n",
      "\n",
      "image 1/1 C:\\Users\\mique\\Desktop\\Master Ciencia de Dades UOC\\Treball de Final de Master\\football_analysis_system\\development_and_analysis\\..\\data\\testing_data\\images\\42ba34_7_1_png.rf.7d753b1bd9aff250da2856fe1fa96e6f.jpg: 640x640 1 goalkeeper, 20 players, 2 referees, 888.4ms\n",
      "Speed: 4.5ms preprocess, 888.4ms inference, 1.0ms postprocess per image at shape (1, 3, 640, 640)\n",
      "\n",
      "image 1/1 C:\\Users\\mique\\Desktop\\Master Ciencia de Dades UOC\\Treball de Final de Master\\football_analysis_system\\development_and_analysis\\..\\data\\testing_data\\images\\4b770a_3_1_png.rf.524883955fde5f4cb91118ecb77c6970.jpg: 640x640 1 ball, 1 goalkeeper, 19 players, 2 referees, 948.8ms\n",
      "Speed: 4.5ms preprocess, 948.8ms inference, 2.0ms postprocess per image at shape (1, 3, 640, 640)\n",
      "\n",
      "image 1/1 C:\\Users\\mique\\Desktop\\Master Ciencia de Dades UOC\\Treball de Final de Master\\football_analysis_system\\development_and_analysis\\..\\data\\testing_data\\images\\4b770a_3_7_png.rf.f056221cfdb2c5519bb3bf9902a2ac4b.jpg: 640x640 1 goalkeeper, 20 players, 3 referees, 899.0ms\n",
      "Speed: 5.0ms preprocess, 899.0ms inference, 1.0ms postprocess per image at shape (1, 3, 640, 640)\n",
      "\n",
      "image 1/1 C:\\Users\\mique\\Desktop\\Master Ciencia de Dades UOC\\Treball de Final de Master\\football_analysis_system\\development_and_analysis\\..\\data\\testing_data\\images\\4b770a_5_5_png.rf.898c0e25ef583ee0f7c45b75987229d5.jpg: 640x640 1 goalkeeper, 20 players, 3 referees, 898.8ms\n",
      "Speed: 5.6ms preprocess, 898.8ms inference, 1.5ms postprocess per image at shape (1, 3, 640, 640)\n",
      "\n",
      "image 1/1 C:\\Users\\mique\\Desktop\\Master Ciencia de Dades UOC\\Treball de Final de Master\\football_analysis_system\\development_and_analysis\\..\\data\\testing_data\\images\\538438_1_5_png.rf.9a9ec204c693a172216a6c1928732ea9.jpg: 640x640 2 goalkeepers, 17 players, 3 referees, 898.3ms\n",
      "Speed: 4.0ms preprocess, 898.3ms inference, 0.0ms postprocess per image at shape (1, 3, 640, 640)\n",
      "\n",
      "image 1/1 C:\\Users\\mique\\Desktop\\Master Ciencia de Dades UOC\\Treball de Final de Master\\football_analysis_system\\development_and_analysis\\..\\data\\testing_data\\images\\538438_9_8_png.rf.a8ab9a97f80062b6423c41c9fc00e86b.jpg: 640x640 1 goalkeeper, 20 players, 3 referees, 901.8ms\n",
      "Speed: 5.5ms preprocess, 901.8ms inference, 1.0ms postprocess per image at shape (1, 3, 640, 640)\n",
      "\n",
      "image 1/1 C:\\Users\\mique\\Desktop\\Master Ciencia de Dades UOC\\Treball de Final de Master\\football_analysis_system\\development_and_analysis\\..\\data\\testing_data\\images\\54745b_9_2_png.rf.1126451d5abeb6601fd84f04c46b5fb4.jpg: 640x640 1 ball, 1 goalkeeper, 22 players, 1 referee, 899.2ms\n",
      "Speed: 5.3ms preprocess, 899.2ms inference, 1.0ms postprocess per image at shape (1, 3, 640, 640)\n",
      "\n",
      "image 1/1 C:\\Users\\mique\\Desktop\\Master Ciencia de Dades UOC\\Treball de Final de Master\\football_analysis_system\\development_and_analysis\\..\\data\\testing_data\\images\\54745b_9_4_png.rf.025a12ff9ee3dfb4bdf093dfe432e14c.jpg: 640x640 18 players, 3 referees, 900.0ms\n",
      "Speed: 5.0ms preprocess, 900.0ms inference, 1.0ms postprocess per image at shape (1, 3, 640, 640)\n",
      "\n",
      "image 1/1 C:\\Users\\mique\\Desktop\\Master Ciencia de Dades UOC\\Treball de Final de Master\\football_analysis_system\\development_and_analysis\\..\\data\\testing_data\\images\\54745b_9_5_png.rf.d0a02362df72f0da7465a7d68e00194d.jpg: 640x640 21 players, 2 referees, 918.6ms\n",
      "Speed: 5.0ms preprocess, 918.6ms inference, 1.0ms postprocess per image at shape (1, 3, 640, 640)\n",
      "\n",
      "image 1/1 C:\\Users\\mique\\Desktop\\Master Ciencia de Dades UOC\\Treball de Final de Master\\football_analysis_system\\development_and_analysis\\..\\data\\testing_data\\images\\54745b_9_6_png.rf.844e6269d9070d4c0fb00e142f6c1096.jpg: 640x640 20 players, 2 referees, 882.0ms\n",
      "Speed: 4.6ms preprocess, 882.0ms inference, 1.0ms postprocess per image at shape (1, 3, 640, 640)\n",
      "\n",
      "image 1/1 C:\\Users\\mique\\Desktop\\Master Ciencia de Dades UOC\\Treball de Final de Master\\football_analysis_system\\development_and_analysis\\..\\data\\testing_data\\images\\55c9d1_7_8_png.rf.ae076e0fa81573af559364baf299b1cf.jpg: 640x640 1 ball, 21 players, 1 referee, 895.0ms\n",
      "Speed: 4.0ms preprocess, 895.0ms inference, 1.0ms postprocess per image at shape (1, 3, 640, 640)\n",
      "\n",
      "image 1/1 C:\\Users\\mique\\Desktop\\Master Ciencia de Dades UOC\\Treball de Final de Master\\football_analysis_system\\development_and_analysis\\..\\data\\testing_data\\images\\573e61_1_10_png.rf.3ca8a4cab961b09304f804c9b9bd3d31.jpg: 640x640 17 players, 2 referees, 895.6ms\n",
      "Speed: 5.0ms preprocess, 895.6ms inference, 1.0ms postprocess per image at shape (1, 3, 640, 640)\n",
      "\n",
      "image 1/1 C:\\Users\\mique\\Desktop\\Master Ciencia de Dades UOC\\Treball de Final de Master\\football_analysis_system\\development_and_analysis\\..\\data\\testing_data\\images\\573e61_5_10_png.rf.2983f17a09c340e7cebc0407c1a57411.jpg: 640x640 19 players, 1 referee, 886.3ms\n",
      "Speed: 5.0ms preprocess, 886.3ms inference, 1.0ms postprocess per image at shape (1, 3, 640, 640)\n",
      "\n",
      "image 1/1 C:\\Users\\mique\\Desktop\\Master Ciencia de Dades UOC\\Treball de Final de Master\\football_analysis_system\\development_and_analysis\\..\\data\\testing_data\\images\\744b27_1_6_png.rf.6797d7dff2614cfeb38d4b2aca1d4d9a.jpg: 640x640 20 players, 2 referees, 890.8ms\n",
      "Speed: 4.5ms preprocess, 890.8ms inference, 2.0ms postprocess per image at shape (1, 3, 640, 640)\n",
      "\n",
      "image 1/1 C:\\Users\\mique\\Desktop\\Master Ciencia de Dades UOC\\Treball de Final de Master\\football_analysis_system\\development_and_analysis\\..\\data\\testing_data\\images\\744b27_1_7_png.rf.22205408fb02cc145441cc5979787d5c.jpg: 640x640 21 players, 2 referees, 885.7ms\n",
      "Speed: 5.0ms preprocess, 885.7ms inference, 1.0ms postprocess per image at shape (1, 3, 640, 640)\n",
      "\n",
      "image 1/1 C:\\Users\\mique\\Desktop\\Master Ciencia de Dades UOC\\Treball de Final de Master\\football_analysis_system\\development_and_analysis\\..\\data\\testing_data\\images\\744b27_3_7_png.rf.5b6a5310277d9027aef2e7d07da02ce4.jpg: 640x640 1 ball, 21 players, 2 referees, 903.5ms\n",
      "Speed: 5.5ms preprocess, 903.5ms inference, 1.5ms postprocess per image at shape (1, 3, 640, 640)\n",
      "\n",
      "image 1/1 C:\\Users\\mique\\Desktop\\Master Ciencia de Dades UOC\\Treball de Final de Master\\football_analysis_system\\development_and_analysis\\..\\data\\testing_data\\images\\744b27_7_1_png.rf.7335021ba416416693ed7ae6f6f6a382.jpg: 640x640 21 players, 3 referees, 896.5ms\n",
      "Speed: 5.0ms preprocess, 896.5ms inference, 1.0ms postprocess per image at shape (1, 3, 640, 640)\n",
      "\n",
      "image 1/1 C:\\Users\\mique\\Desktop\\Master Ciencia de Dades UOC\\Treball de Final de Master\\football_analysis_system\\development_and_analysis\\..\\data\\testing_data\\images\\744b27_7_5_png.rf.d5deafb9fee0c2ba7be675ca528b08df.jpg: 640x640 1 goalkeeper, 20 players, 3 referees, 968.8ms\n",
      "Speed: 5.5ms preprocess, 968.8ms inference, 0.0ms postprocess per image at shape (1, 3, 640, 640)\n",
      "\n",
      "image 1/1 C:\\Users\\mique\\Desktop\\Master Ciencia de Dades UOC\\Treball de Final de Master\\football_analysis_system\\development_and_analysis\\..\\data\\testing_data\\images\\744b27_7_6_png.rf.a1a5878ac806348acde7fd79abc78e82.jpg: 640x640 1 goalkeeper, 17 players, 2 referees, 919.2ms\n",
      "Speed: 4.5ms preprocess, 919.2ms inference, 1.0ms postprocess per image at shape (1, 3, 640, 640)\n",
      "\n",
      "image 1/1 C:\\Users\\mique\\Desktop\\Master Ciencia de Dades UOC\\Treball de Final de Master\\football_analysis_system\\development_and_analysis\\..\\data\\testing_data\\images\\744b27_7_7_png.rf.2f9964a882fa25f59bd62dde6867f6cb.jpg: 640x640 1 ball, 1 goalkeeper, 18 players, 2 referees, 890.9ms\n",
      "Speed: 5.0ms preprocess, 890.9ms inference, 1.0ms postprocess per image at shape (1, 3, 640, 640)\n",
      "\n",
      "image 1/1 C:\\Users\\mique\\Desktop\\Master Ciencia de Dades UOC\\Treball de Final de Master\\football_analysis_system\\development_and_analysis\\..\\data\\testing_data\\images\\744b27_9_8_png.rf.7b00f9f77e6bb12572f01620d39732c4.jpg: 640x640 20 players, 1 referee, 895.4ms\n",
      "Speed: 5.5ms preprocess, 895.4ms inference, 1.0ms postprocess per image at shape (1, 3, 640, 640)\n",
      "\n",
      "image 1/1 C:\\Users\\mique\\Desktop\\Master Ciencia de Dades UOC\\Treball de Final de Master\\football_analysis_system\\development_and_analysis\\..\\data\\testing_data\\images\\798b45_1_1_png.rf.410ced72bdcf784e47dd5d2920bae574.jpg: 640x640 1 goalkeeper, 20 players, 2 referees, 902.4ms\n",
      "Speed: 4.5ms preprocess, 902.4ms inference, 1.0ms postprocess per image at shape (1, 3, 640, 640)\n",
      "\n",
      "image 1/1 C:\\Users\\mique\\Desktop\\Master Ciencia de Dades UOC\\Treball de Final de Master\\football_analysis_system\\development_and_analysis\\..\\data\\testing_data\\images\\798b45_1_2_png.rf.f85272a367d64f62d3fa1bed8750cbb0.jpg: 640x640 1 goalkeeper, 19 players, 2 referees, 915.0ms\n",
      "Speed: 4.0ms preprocess, 915.0ms inference, 2.0ms postprocess per image at shape (1, 3, 640, 640)\n",
      "\n",
      "image 1/1 C:\\Users\\mique\\Desktop\\Master Ciencia de Dades UOC\\Treball de Final de Master\\football_analysis_system\\development_and_analysis\\..\\data\\testing_data\\images\\798b45_7_4_png.rf.c6884cb33be843080f1f9c6e3e7e5f75.jpg: 640x640 1 goalkeeper, 20 players, 2 referees, 980.1ms\n",
      "Speed: 5.0ms preprocess, 980.1ms inference, 1.5ms postprocess per image at shape (1, 3, 640, 640)\n",
      "\n",
      "image 1/1 C:\\Users\\mique\\Desktop\\Master Ciencia de Dades UOC\\Treball de Final de Master\\football_analysis_system\\development_and_analysis\\..\\data\\testing_data\\images\\798b45_7_5_png.rf.c9cc082832be80adb59eeb4737119bf4.jpg: 640x640 1 goalkeeper, 19 players, 2 referees, 918.5ms\n",
      "Speed: 5.0ms preprocess, 918.5ms inference, 1.0ms postprocess per image at shape (1, 3, 640, 640)\n",
      "\n",
      "image 1/1 C:\\Users\\mique\\Desktop\\Master Ciencia de Dades UOC\\Treball de Final de Master\\football_analysis_system\\development_and_analysis\\..\\data\\testing_data\\images\\798b45_9_7_png.rf.27e31a1e4981fe613104eb088e47c1ec.jpg: 640x640 1 ball, 1 goalkeeper, 19 players, 4 referees, 909.7ms\n",
      "Speed: 6.0ms preprocess, 909.7ms inference, 1.0ms postprocess per image at shape (1, 3, 640, 640)\n",
      "\n",
      "image 1/1 C:\\Users\\mique\\Desktop\\Master Ciencia de Dades UOC\\Treball de Final de Master\\football_analysis_system\\development_and_analysis\\..\\data\\testing_data\\images\\798b45_9_8_png.rf.938485d72eb836daf7594f478a7b2e4d.jpg: 640x640 1 goalkeeper, 20 players, 2 referees, 909.4ms\n",
      "Speed: 5.0ms preprocess, 909.4ms inference, 1.0ms postprocess per image at shape (1, 3, 640, 640)\n",
      "\n",
      "image 1/1 C:\\Users\\mique\\Desktop\\Master Ciencia de Dades UOC\\Treball de Final de Master\\football_analysis_system\\development_and_analysis\\..\\data\\testing_data\\images\\a9f16c_8_10_png.rf.3028b2b8a61ac775683f2f11f6293053.jpg: 640x640 1 ball, 2 goalkeepers, 20 players, 2 referees, 902.7ms\n",
      "Speed: 4.5ms preprocess, 902.7ms inference, 1.0ms postprocess per image at shape (1, 3, 640, 640)\n",
      "Ball Precision: 0.87\n",
      "Ball Recall: 0.29\n",
      "Goalkeeper Precision: 0.91\n",
      "Goalkeeper Recall: 0.74\n",
      "Player Precision: 0.97\n",
      "Player Recall: 0.95\n",
      "Referee Precision: 0.96\n",
      "Referee Recall: 0.93\n"
     ]
    }
   ],
   "execution_count": 5
  },
  {
   "metadata": {},
   "cell_type": "markdown",
   "source": "# Single Image Validation",
   "id": "af08060ac0544481"
  },
  {
   "metadata": {
    "ExecuteTime": {
     "end_time": "2024-11-20T09:59:58.361570Z",
     "start_time": "2024-11-20T09:59:58.330328Z"
    }
   },
   "cell_type": "code",
   "source": [
    "from ultralytics import YOLO\n",
    "from PIL import Image\n",
    "from typing import List, Tuple"
   ],
   "id": "c10d958806a60437",
   "outputs": [],
   "execution_count": 12
  },
  {
   "metadata": {
    "ExecuteTime": {
     "end_time": "2024-11-20T09:59:58.921260Z",
     "start_time": "2024-11-20T09:59:58.723606Z"
    }
   },
   "cell_type": "code",
   "source": [
    "# Cargar el modelo\n",
    "model = YOLO('../data/models/v8/best.pt')\n",
    "\n",
    "# Rutas de la imagen y etiquetas\n",
    "image_path = '../data/testing_data/images/2e57b9_1_6_png.rf.d75ca2d49fa77ff7b77446b62f9dbe6d.jpg'\n",
    "image = Image.open(image_path)\n",
    "img_width, img_height = image.size\n",
    "label_path = '../data/testing_data/labels/2e57b9_1_6_png.rf.d75ca2d49fa77ff7b77446b62f9dbe6d.txt'"
   ],
   "id": "d4e759967b917860",
   "outputs": [],
   "execution_count": 13
  },
  {
   "metadata": {
    "ExecuteTime": {
     "end_time": "2024-11-14T18:51:36.223553Z",
     "start_time": "2024-11-14T18:51:36.207931Z"
    }
   },
   "cell_type": "code",
   "source": [
    "true_boxes_ball = []\n",
    "true_boxes_goalkeeper = []\n",
    "true_boxes_player = []\n",
    "true_boxes_referee = []\n",
    "\n",
    "with open(label_path, 'r') as file:\n",
    "    for line in file:\n",
    "        label, x_center, y_center, width, height = map(float, line.split())\n",
    "        if label == 0:\n",
    "            true_boxes_ball.append((x_center, y_center, width, height))\n",
    "        elif label == 1:\n",
    "            true_boxes_goalkeeper.append((x_center, y_center, width, height))\n",
    "        elif label == 2:\n",
    "            true_boxes_player.append((x_center, y_center, width, height))\n",
    "        elif label == 3:\n",
    "            true_boxes_referee.append((x_center, y_center, width, height))\n",
    "\n",
    "true_boxes_ball_px = [(x * img_width, y * img_height, w * img_width, h * img_height) for x, y, w, h in true_boxes_ball]\n",
    "true_boxes_goalkeeper_px = [(x * img_width, y * img_height, w * img_width, h * img_height) for x, y, w, h in true_boxes_goalkeeper]\n",
    "true_boxes_player_px = [(x * img_width, y * img_height, w * img_width, h * img_height) for x, y, w, h in true_boxes_player]\n",
    "true_boxes_referee_px = [(x * img_width, y * img_height, w * img_width, h * img_height) for x, y, w, h in true_boxes_referee]\n",
    "\n",
    "\n",
    "print(\"True Boxes Ball:\", true_boxes_ball_px)\n",
    "print(\"True Boxes Goalkeeper:\", true_boxes_goalkeeper_px)\n",
    "print(\"True Boxes Player:\", true_boxes_player_px)\n",
    "print(\"True Boxes Referee:\", true_boxes_referee_px)"
   ],
   "id": "329fe2ef72e303fd",
   "outputs": [
    {
     "name": "stdout",
     "output_type": "stream",
     "text": [
      "True Boxes Ball: [(763.5, 623.5, 9.5, 17.5)]\n",
      "True Boxes Goalkeeper: [(995.0, 479.5, 14.5, 54.0)]\n",
      "True Boxes Player: [(655.5, 479.5, 11.5, 41.5), (583.5, 499.0, 11.5, 50.0), (940.0, 589.0, 14.5, 61.5), (932.5, 553.5, 13.5, 59.5), (846.0, 536.5, 12.0, 55.5), (962.0, 580.5, 14.5, 59.5), (353.5, 562.0, 12.5, 59.5), (826.0, 521.5, 12.0, 54.5), (722.0, 525.0, 13.5, 52.0), (294.5, 559.5, 10.0, 59.5), (475.0, 619.5, 14.0, 67.5), (737.5, 620.0, 16.0, 61.5), (531.5, 607.0, 12.0, 64.0), (716.5, 619.5, 16.0, 63.0), (688.0, 608.0, 22.5, 54.5), (844.0, 672.5, 14.5, 70.0), (244.0, 737.0, 28.0, 80.5), (342.0, 777.0, 20.0, 91.5), (501.5, 742.0, 24.0, 83.0), (958.5, 558.0, 13.5, 54.5)]\n",
      "True Boxes Referee: [(624.5, 539.5, 10.5, 47.5), (1209.0, 717.5, 28.5, 74.0), (235.5, 423.5, 13.5, 42.5)]\n"
     ]
    }
   ],
   "execution_count": 25
  },
  {
   "metadata": {
    "ExecuteTime": {
     "end_time": "2024-11-14T18:46:40.538796Z",
     "start_time": "2024-11-14T18:46:39.476168Z"
    }
   },
   "cell_type": "code",
   "source": [
    "# Realizar detecciones\n",
    "\n",
    "results = model(image_path)\n",
    "detected_boxes = [(box.cls.item(), box.xywhn.tolist()) for box in results[0].boxes]\n",
    "detected_boxes_px = [(box.cls.item(), box.xywh.tolist()) for box in results[0].boxes]\n",
    "\n",
    "predicted_boxes_ball = []\n",
    "predicted_boxes_goalkeeper = []\n",
    "predicted_boxes_player = []\n",
    "predicted_boxes_referee = []\n",
    "\n",
    "for box in detected_boxes:\n",
    "    label = box[0]\n",
    "    bbox = (box[1][0][0], box[1][0][1], box[1][0][2], box[1][0][3])\n",
    "    if label == 0:\n",
    "        predicted_boxes_ball.append(bbox)\n",
    "    elif label == 1:\n",
    "        predicted_boxes_goalkeeper.append(bbox)\n",
    "    elif label == 2:\n",
    "        predicted_boxes_player.append(bbox)\n",
    "    elif label == 3:\n",
    "        predicted_boxes_referee.append(bbox)\n",
    "\n",
    "predicted_boxes_ball_px = []\n",
    "predicted_boxes_goalkeeper_px = []\n",
    "predicted_boxes_player_px = []\n",
    "predicted_boxes_referee_px = []\n",
    "\n",
    "for box in detected_boxes_px:\n",
    "    label = box[0]\n",
    "    bbox = (box[1][0][0], box[1][0][1], box[1][0][2], box[1][0][3])\n",
    "    if label == 0:\n",
    "        predicted_boxes_ball_px.append(bbox)\n",
    "    elif label == 1:\n",
    "        predicted_boxes_goalkeeper_px.append(bbox)\n",
    "    elif label == 2:\n",
    "        predicted_boxes_player_px.append(bbox)\n",
    "    elif label == 3:\n",
    "        predicted_boxes_referee_px.append(bbox)\n",
    "\n",
    "print(\"Predicted Boxes Ball:\", predicted_boxes_ball_px)\n",
    "print(\"Predicted Boxes Goalkeeper:\", predicted_boxes_goalkeeper_px)\n",
    "print(\"Predicted Boxes Player:\", predicted_boxes_player_px)\n",
    "print(\"Predicted Boxes Referee:\", predicted_boxes_referee_px)\n"
   ],
   "id": "b1e68800a99b03d5",
   "outputs": [
    {
     "name": "stdout",
     "output_type": "stream",
     "text": [
      "\n",
      "image 1/1 C:\\Users\\mique\\Desktop\\Master Ciencia de Dades UOC\\Treball de Final de Master\\football_analysis_system\\development_and_analysis\\..\\data\\testing_data\\images\\2e57b9_1_6_png.rf.d75ca2d49fa77ff7b77446b62f9dbe6d.jpg: 640x640 1 goalkeeper, 20 players, 3 referees, 62.5ms\n",
      "Speed: 15.6ms preprocess, 62.5ms inference, 0.0ms postprocess per image at shape (1, 3, 640, 640)\n",
      "Predicted Boxes Ball: []\n",
      "Predicted Boxes Goalkeeper: [(181.0667724609375, 324.4131774902344, 21.13983154296875, 56.32000732421875)]\n",
      "Predicted Boxes Player: [(845.052001953125, 733.1133422851562, 23.2237548828125, 87.5994873046875), (498.93133544921875, 483.0350646972656, 21.6455078125, 59.49993896484375), (998.9293212890625, 604.919677734375, 17.203857421875, 83.786376953125), (576.8115234375, 812.5552978515625, 35.0401611328125, 85.099853515625), (559.6214599609375, 307.0665588378906, 10.283447265625, 54.3575439453125), (122.874755859375, 560.012451171875, 21.515472412109375, 76.1536865234375), (524.6072387695312, 349.1059875488281, 19.739013671875, 55.74896240234375), (623.9779052734375, 451.12066650390625, 16.1572265625, 66.2283935546875), (598.0880737304688, 280.780029296875, 11.9993896484375, 55.87408447265625), (452.10247802734375, 245.5956573486328, 12.7269287109375, 51.554473876953125), (1016.058837890625, 356.810302734375, 13.42626953125, 63.82568359375), (1032.802734375, 486.5304870605469, 15.06982421875, 62.56951904296875), (805.0411376953125, 281.51165771484375, 8.830078125, 51.85614013671875), (858.0091552734375, 412.67864990234375, 11.9315185546875, 64.3480224609375), (937.9305419921875, 372.1678466796875, 11.58154296875, 60.1678466796875), (306.134033203125, 341.64117431640625, 18.51141357421875, 52.914794921875), (876.7280883789062, 268.6991882324219, 11.995849609375, 52.07379150390625), (866.319580078125, 231.50579833984375, 14.979248046875, 47.60687255859375), (415.68316650390625, 238.71563720703125, 18.0557861328125, 53.28155517578125), (650.8082275390625, 185.23153686523438, 8.117919921875, 41.95361328125)]\n",
      "Predicted Boxes Referee: [(1075.0311279296875, 1119.689453125, 46.914306640625, 125.17333984375), (686.8759765625, 372.552734375, 14.42333984375, 63.013427734375), (481.0619812011719, 164.66964721679688, 15.0467529296875, 40.985260009765625)]\n"
     ]
    }
   ],
   "execution_count": 16
  },
  {
   "metadata": {
    "ExecuteTime": {
     "end_time": "2024-11-14T18:46:40.554468Z",
     "start_time": "2024-11-14T18:46:40.538796Z"
    }
   },
   "cell_type": "code",
   "source": [
    "def iou(boxA: Tuple[float, float, float, float], boxB: Tuple[float, float, float, float]) -> float:\n",
    "    # Calcular coordenadas de la intersección\n",
    "    xA = max(boxA[0], boxB[0])\n",
    "    yA = max(boxA[1], boxB[1])\n",
    "    xB = min(boxA[0] + boxA[2], boxB[0] + boxB[2])\n",
    "    yB = min(boxA[1] + boxA[3], boxB[1] + boxB[3])\n",
    "\n",
    "    # Área de la intersección\n",
    "    interArea = max(0, xB - xA) * max(0, yB - yA)\n",
    "    # Áreas de cada caja\n",
    "    boxAArea = boxA[2] * boxA[3]\n",
    "    boxBArea = boxB[2] * boxB[3]\n",
    "\n",
    "    # Área de la unión\n",
    "    unionArea = boxAArea + boxBArea - interArea\n",
    "\n",
    "    # IoU\n",
    "    return interArea / unionArea if unionArea != 0 else 0"
   ],
   "id": "25476ff1cf3d171d",
   "outputs": [],
   "execution_count": 17
  },
  {
   "metadata": {
    "ExecuteTime": {
     "end_time": "2024-11-14T18:46:40.570031Z",
     "start_time": "2024-11-14T18:46:40.554468Z"
    }
   },
   "cell_type": "code",
   "source": [
    "def evaluate(true_boxes: List[Tuple[float, float, float, float]],\n",
    "             pred_boxes: List[Tuple[float, float, float, float]],\n",
    "             iou_threshold: float = 0.5) -> Tuple[float, float]:\n",
    "    \n",
    "    tp, fp, fn = 0, 0, 0\n",
    "    matched_pred_indices = set()\n",
    "\n",
    "    for true_box in true_boxes:\n",
    "        match_found = False\n",
    "        for i, pred_box in enumerate(pred_boxes):\n",
    "            if i in matched_pred_indices:\n",
    "                continue\n",
    "            iou_value = iou(true_box, pred_box)\n",
    "            if iou_value >= iou_threshold:\n",
    "                tp += 1\n",
    "                matched_pred_indices.add(i)\n",
    "                match_found = True\n",
    "                break\n",
    "        if not match_found:\n",
    "            fn += 1\n",
    "\n",
    "    fp = len(pred_boxes) - len(matched_pred_indices)\n",
    "\n",
    "    precision = tp / (tp + fp) if (tp + fp) > 0 else 0\n",
    "    recall = tp / (tp + fn) if (tp + fn) > 0 else 0\n",
    "\n",
    "    return precision, recall"
   ],
   "id": "7289a69fb1f7e35c",
   "outputs": [],
   "execution_count": 18
  },
  {
   "metadata": {
    "ExecuteTime": {
     "end_time": "2024-11-14T18:46:41.311169Z",
     "start_time": "2024-11-14T18:46:41.280011Z"
    }
   },
   "cell_type": "code",
   "source": [
    "ball_precision, ball_recall = evaluate(true_boxes_ball_px, predicted_boxes_ball_px)\n",
    "goalkeeper_precision, goalkeeper_recall = evaluate(true_boxes_goalkeeper_px, predicted_boxes_goalkeeper_px)\n",
    "player_precision, player_recall = evaluate(true_boxes_player_px, predicted_boxes_player_px)\n",
    "referee_precision, referee_recall = evaluate(true_boxes_referee_px, predicted_boxes_referee_px)\n",
    "\n",
    "print(\"Ball Precision:\", ball_precision)\n",
    "print(\"Ball Recall:\", ball_recall)\n",
    "print(\"Goalkeeper Precision:\", goalkeeper_precision)\n",
    "print(\"Goalkeeper Recall:\", goalkeeper_recall)\n",
    "print(\"Player Precision:\", player_precision)\n",
    "print(\"Player Recall:\", player_recall)\n",
    "print(\"Referee Precision:\", referee_precision)\n",
    "print(\"Referee Recall:\", referee_recall)"
   ],
   "id": "ee2362e2caf4f57e",
   "outputs": [
    {
     "name": "stdout",
     "output_type": "stream",
     "text": [
      "Ball Precision: 0\n",
      "Ball Recall: 0.0\n",
      "Goalkeeper Precision: 1.0\n",
      "Goalkeeper Recall: 1.0\n",
      "Player Precision: 1.0\n",
      "Player Recall: 1.0\n",
      "Referee Precision: 1.0\n",
      "Referee Recall: 1.0\n"
     ]
    }
   ],
   "execution_count": 19
  },
  {
   "metadata": {},
   "cell_type": "code",
   "outputs": [],
   "execution_count": null,
   "source": "",
   "id": "543f2110fcea3506"
  }
 ],
 "metadata": {
  "kernelspec": {
   "display_name": "Python 3",
   "language": "python",
   "name": "python3"
  },
  "language_info": {
   "codemirror_mode": {
    "name": "ipython",
    "version": 2
   },
   "file_extension": ".py",
   "mimetype": "text/x-python",
   "name": "python",
   "nbconvert_exporter": "python",
   "pygments_lexer": "ipython2",
   "version": "2.7.6"
  }
 },
 "nbformat": 4,
 "nbformat_minor": 5
}
